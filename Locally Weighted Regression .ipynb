{
 "cells": [
  {
   "cell_type": "code",
   "execution_count": 1,
   "metadata": {},
   "outputs": [],
   "source": [
    "import numpy as np\n",
    "import pandas as pd\n",
    "import matplotlib.pyplot as plt\n",
    "import math\n",
    "x_data = pd.read_csv(\"weightedX.csv\")\n",
    "y_data = pd.read_csv(\"weightedY.csv\")\n",
    "x_data = x_data.values\n",
    "y_data = y_data.values\n",
    "x_data = (x_data-x_data.mean())/x_data.std()"
   ]
  },
  {
   "cell_type": "code",
   "execution_count": 2,
   "metadata": {},
   "outputs": [
    {
     "data": {
      "image/png": "[encoded data removed]",
      "text/plain": [
       "<Figure size 432x288 with 1 Axes>"
      ]
     },
     "metadata": {
      "needs_background": "light"
     },
     "output_type": "display_data"
    }
   ],
   "source": [
    "plt.scatter(x_data,y_data)\n",
    "plt.show()"
   ]
  },
  {
   "cell_type": "code",
   "execution_count": 73,
   "metadata": {},
   "outputs": [],
   "source": [
    "def weight(X,query,tau):\n",
    "    m = X.shape[0]\n",
    "    '''\n",
    "    weight = []\n",
    "    for i in range(m):\n",
    "        term = (np.dot((X[i]-query),(X[i]-query).T)/2*tau*tau)\n",
    "        term = -1*term\n",
    "        term = np.exp(term)\n",
    "        weight.append(term)\n",
    "    weight = np.array(weight)\n",
    "    weight = weight.reshape(-1,)\n",
    "    print(weight.shape)\n",
    "    weight = np.diag(weight)\n",
    "    '''\n",
    "    weight = np.array(np.eye(m))\n",
    "    for i in range(m):\n",
    "        term = np.exp(np.dot((X[i]-query),(X[i]-query).T)/(-2*tau*tau))\n",
    "        weight[i,i] = term\n",
    "    \n",
    "    return weight\n",
    "def closed_form_lowless(X,Y,query,tau):\n",
    "    m = X.shape[0]\n",
    "    one = np.ones((m,1))\n",
    "    X_ = np.hstack((X,one))\n",
    "    X_ = np.mat(X_)\n",
    "    query_ = np.mat([query,1])\n",
    "    w = weight(X_,query_,tau)\n",
    "    first_term = np.dot(X_.T,w)\n",
    "    first_term = np.dot(first_term,X_)\n",
    "    first_term = np.linalg.pinv(first_term)\n",
    "    second_term = np.dot(X_.T,w)\n",
    "    second_term = np.dot(second_term,Y)\n",
    "    theta = first_term*second_term\n",
    "    \n",
    "    return theta\n",
    "\n"
   ]
  },
  {
   "cell_type": "markdown",
   "metadata": {},
   "source": [
    "# Plotting\n"
   ]
  },
  {
   "cell_type": "code",
   "execution_count": 76,
   "metadata": {},
   "outputs": [
    {
     "data": {
      "image/png": "[encoded data removed]",
      "text/plain": [
       "<Figure size 432x288 with 1 Axes>"
      ]
     },
     "metadata": {
      "needs_background": "light"
     },
     "output_type": "display_data"
    }
   ],
   "source": [
    "def prediction(query):\n",
    "    theta = closed_form_lowless(x_data,y_data,query,0.1)\n",
    "    query_ = np.mat([query,1])\n",
    "    pred = np.dot(query_,theta)\n",
    "    return pred\n",
    "x_test = np.linspace(-2,1.5,20)\n",
    "y_test = []\n",
    "for i in x_test:\n",
    "    pred  = prediction(i)\n",
    "    y_test.append(pred)\n",
    "y_test = np.array(y_test)\n",
    "plt.scatter(x_data,y_data)\n",
    "plt.scatter(x_test,y_test,color = 'r')\n",
    "plt.show()\n",
    "    \n",
    "\n"
   ]
  },
  {
   "cell_type": "code",
   "execution_count": null,
   "metadata": {},
   "outputs": [],
   "source": []
  }
 ],
 "metadata": {
  "kernelspec": {
   "display_name": "Python 3",
   "language": "python",
   "name": "python3"
  },
  "language_info": {
   "codemirror_mode": {
    "name": "ipython",
    "version": 3
   },
   "file_extension": ".py",
   "mimetype": "text/x-python",
   "name": "python",
   "nbconvert_exporter": "python",
   "pygments_lexer": "ipython3",
   "version": "3.6.8"
  }
 },
 "nbformat": 4,
 "nbformat_minor": 2
}
